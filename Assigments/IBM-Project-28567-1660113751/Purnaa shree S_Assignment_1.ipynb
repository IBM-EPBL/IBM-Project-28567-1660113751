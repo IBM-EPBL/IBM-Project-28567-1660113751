{
  "nbformat": 4,
  "nbformat_minor": 0,
  "metadata": {
    "colab": {
      "provenance": [],
      "collapsed_sections": []
    },
    "kernelspec": {
      "name": "python3",
      "display_name": "Python 3"
    },
    "language_info": {
      "name": "python"
    }
  },
  "cells": [
    {
      "cell_type": "markdown",
      "source": [
        "# Basic Python"
      ],
      "metadata": {
        "id": "McSxJAwcOdZ1"
      }
    },
    {
      "cell_type": "markdown",
      "source": [
        "## 1. Split this string"
      ],
      "metadata": {
        "id": "CU48hgo4Owz5"
      }
    },
    {
      "cell_type": "code",
      "source": [
        "s = \"Hi there Sam!\""
      ],
      "metadata": {
        "id": "s07c7JK7Oqt-"
      },
      "execution_count": 1,
      "outputs": []
    },
    {
      "cell_type": "code",
      "source": [
        "s = \"Hi there Sam!\"\n",
        "spil=s.split(' ')\n",
        "print(spil)"
      ],
      "metadata": {
        "id": "6mGVa3SQYLkb",
        "outputId": "3d1892ce-228c-40ed-cb4e-d17b9d53b259",
        "colab": {
          "base_uri": "https://localhost:8080/"
        }
      },
      "execution_count": 2,
      "outputs": [
        {
          "output_type": "stream",
          "name": "stdout",
          "text": [
            "['Hi', 'there', 'Sam!']\n"
          ]
        }
      ]
    },
    {
      "cell_type": "markdown",
      "source": [
        "*`italicized text`*## 2. Use .format() to print the following string. \n",
        "\n",
        "### Output should be: The diameter of Earth is 12742 kilometers."
      ],
      "metadata": {
        "id": "GH1QBn8HP375"
      }
    },
    {
      "cell_type": "code",
      "source": [
        "planet = \"Earth\"\n",
        "diameter = 12742"
      ],
      "metadata": {
        "id": "_ZHoml3kPqic"
      },
      "execution_count": 3,
      "outputs": []
    },
    {
      "cell_type": "code",
      "source": [
        "planet = \"Earth\"\n",
        "diameter = 12742\n",
        "result = \"The diameter of {planet} is {diameter} kilometers.\".format(planet = \"Earth\",diameter = 12742)\n",
        "print(result)"
      ],
      "metadata": {
        "id": "HyRyJv6CYPb4",
        "outputId": "96f59230-692d-402b-a615-a9a7a2a96e6d",
        "colab": {
          "base_uri": "https://localhost:8080/"
        }
      },
      "execution_count": 4,
      "outputs": [
        {
          "output_type": "stream",
          "name": "stdout",
          "text": [
            "The diameter of Earth is 12742 kilometers.\n"
          ]
        }
      ]
    },
    {
      "cell_type": "markdown",
      "source": [
        "## 3. In this nest dictionary grab the word \"hello\""
      ],
      "metadata": {
        "id": "KE74ZEwkRExZ"
      }
    },
    {
      "cell_type": "code",
      "source": [
        "d = {'k1':[1,2,3,{'tricky':['oh','man','inception',{'target':[1,2,3,'hello']}]}]}"
      ],
      "metadata": {
        "id": "fcVwbCc1QrQI"
      },
      "execution_count": 5,
      "outputs": []
    },
    {
      "cell_type": "code",
      "source": [
        "d = {'k1':[1,2,3,{'tricky':['oh','man','inception',{'target':[1,2,3,'hello']}]}]}\n",
        "dic=d['k1'][3]\n",
        "dicti=dic['tricky'][3]\n",
        "result=dicti['target'][3]\n",
        "print(result)"
      ],
      "metadata": {
        "id": "MvbkMZpXYRaw",
        "outputId": "7ebb509a-186b-400c-e130-cd801bae3ae2",
        "colab": {
          "base_uri": "https://localhost:8080/"
        }
      },
      "execution_count": 6,
      "outputs": [
        {
          "output_type": "stream",
          "name": "stdout",
          "text": [
            "hello\n"
          ]
        }
      ]
    },
    {
      "cell_type": "markdown",
      "source": [],
      "metadata": {
        "id": "7MoHFI3S9gAz"
      }
    },
    {
      "cell_type": "markdown",
      "source": [
        "# Numpy"
      ],
      "metadata": {
        "id": "bw0vVp-9ddjv"
      }
    },
    {
      "cell_type": "code",
      "source": [
        "import numpy as np"
      ],
      "metadata": {
        "id": "LLiE_TYrhA1O"
      },
      "execution_count": 7,
      "outputs": []
    },
    {
      "cell_type": "markdown",
      "source": [
        "## 4.1 Create an array of 10 zeros? \n",
        "## 4.2 Create an array of 10 fives?"
      ],
      "metadata": {
        "id": "wOg8hinbgx30"
      }
    },
    {
      "cell_type": "code",
      "source": [
        "import numpy as np\n",
        "arr=np.zeros(10)\n",
        "print(arr)"
      ],
      "metadata": {
        "id": "NHrirmgCYXvU",
        "outputId": "72d44f43-f1a1-4c1e-a8aa-77c18cb0000f",
        "colab": {
          "base_uri": "https://localhost:8080/"
        }
      },
      "execution_count": 8,
      "outputs": [
        {
          "output_type": "stream",
          "name": "stdout",
          "text": [
            "[0. 0. 0. 0. 0. 0. 0. 0. 0. 0.]\n"
          ]
        }
      ]
    },
    {
      "cell_type": "code",
      "source": [
        "import numpy as np\n",
        "arr=np.ones(10)*5\n",
        "print(arr)\n"
      ],
      "metadata": {
        "id": "e4005lsTYXxx",
        "outputId": "db5db981-e8e1-44e5-ff4d-ca1c13c23bc0",
        "colab": {
          "base_uri": "https://localhost:8080/"
        }
      },
      "execution_count": 9,
      "outputs": [
        {
          "output_type": "stream",
          "name": "stdout",
          "text": [
            "[5. 5. 5. 5. 5. 5. 5. 5. 5. 5.]\n"
          ]
        }
      ]
    },
    {
      "cell_type": "markdown",
      "source": [
        "## 5. Create an array of all the even integers from 20 to 35"
      ],
      "metadata": {
        "id": "gZHHDUBvrMX4"
      }
    },
    {
      "cell_type": "code",
      "source": [
        "import numpy as np\n",
        "arr=np.arange(20,36,2)\n",
        "print(arr)"
      ],
      "metadata": {
        "id": "oAI2tbU2Yag-",
        "outputId": "4703b52e-dfde-4d6d-a7b6-16c53a25946e",
        "colab": {
          "base_uri": "https://localhost:8080/"
        }
      },
      "execution_count": 10,
      "outputs": [
        {
          "output_type": "stream",
          "name": "stdout",
          "text": [
            "[20 22 24 26 28 30 32 34]\n"
          ]
        }
      ]
    },
    {
      "cell_type": "markdown",
      "source": [
        "## 6. Create a 3x3 matrix with values ranging from 0 to 8"
      ],
      "metadata": {
        "id": "NaOM308NsRpZ"
      }
    },
    {
      "cell_type": "code",
      "source": [
        "import numpy as np\n",
        "arr=np.arange(0,9).reshape(3,3)\n",
        "print(arr)"
      ],
      "metadata": {
        "id": "tOlEVH7BYceE",
        "outputId": "89020f1c-6d0a-4999-80f2-57861ff9e73d",
        "colab": {
          "base_uri": "https://localhost:8080/"
        }
      },
      "execution_count": 11,
      "outputs": [
        {
          "output_type": "stream",
          "name": "stdout",
          "text": [
            "[[0 1 2]\n",
            " [3 4 5]\n",
            " [6 7 8]]\n"
          ]
        }
      ]
    },
    {
      "cell_type": "markdown",
      "source": [
        "## 7. Concatinate a and b \n",
        "## a = np.array([1, 2, 3]), b = np.array([4, 5, 6])"
      ],
      "metadata": {
        "id": "hQ0dnhAQuU_p"
      }
    },
    {
      "cell_type": "code",
      "source": [
        "import numpy as np\n",
        "a = np.array([1, 2, 3])\n",
        "b = np.array([4, 5, 6])\n",
        "result=np.concatenate((a,b),axis=0)\n",
        "print(result)"
      ],
      "metadata": {
        "id": "rAPSw97aYfE0",
        "outputId": "4f433957-d566-4a59-8a4a-78c2f0d33836",
        "colab": {
          "base_uri": "https://localhost:8080/"
        }
      },
      "execution_count": 12,
      "outputs": [
        {
          "output_type": "stream",
          "name": "stdout",
          "text": [
            "[1 2 3 4 5 6]\n"
          ]
        }
      ]
    },
    {
      "cell_type": "markdown",
      "source": [
        "# Pandas"
      ],
      "metadata": {
        "id": "dlPEY9DRwZga"
      }
    },
    {
      "cell_type": "markdown",
      "source": [
        "## 8. Create a dataframe with 3 rows and 2 columns"
      ],
      "metadata": {
        "id": "ijoYW51zwr87"
      }
    },
    {
      "cell_type": "code",
      "source": [
        "import pandas as pd"
      ],
      "metadata": {
        "id": "T5OxJRZ8uvR7"
      },
      "execution_count": 13,
      "outputs": []
    },
    {
      "cell_type": "code",
      "source": [
        "import pandas as pd\n",
        "data={'name' :['Suba','Nalina','Purnaa'],\n",
        "      'marks' : [95,97,95]}\n",
        "df=pd.DataFrame(data)\n",
        "print(df)"
      ],
      "metadata": {
        "id": "xNpI_XXoYhs0",
        "outputId": "226d0cd2-2b42-47e9-d21d-294b3068367b",
        "colab": {
          "base_uri": "https://localhost:8080/"
        }
      },
      "execution_count": 14,
      "outputs": [
        {
          "output_type": "stream",
          "name": "stdout",
          "text": [
            "     name  marks\n",
            "0    Suba     95\n",
            "1  Nalina     97\n",
            "2  Purnaa     95\n"
          ]
        }
      ]
    },
    {
      "cell_type": "markdown",
      "source": [
        "## 9. Generate the series of dates from 1st Jan, 2023 to 10th Feb, 2023"
      ],
      "metadata": {
        "id": "UXSmdNclyJQD"
      }
    },
    {
      "cell_type": "code",
      "source": [
        "import pandas as pd\n",
        "for i in range(1,32):\n",
        "    result= \"{date} {mnth} {year}\".format(date = i, mnth=\"Jan\" ,year=\"2023\")\n",
        "    data={result}\n",
        "    df=pd.DataFrame(data)\n",
        "    print(df)\n",
        "for i in range(1,11):\n",
        "    res= \"{date} {mnth} {year}\".format(date = i, mnth=\"feb\" ,year=\"2023\")\n",
        "    data={res}\n",
        "    df=pd.DataFrame(data)\n",
        "    print(df)"
      ],
      "metadata": {
        "id": "dgyC0JhVYl4F",
        "outputId": "9e97fdae-05ca-4061-a47a-93ae1b2d562b",
        "colab": {
          "base_uri": "https://localhost:8080/"
        }
      },
      "execution_count": 15,
      "outputs": [
        {
          "output_type": "stream",
          "name": "stdout",
          "text": [
            "            0\n",
            "0  1 Jan 2023\n",
            "            0\n",
            "0  2 Jan 2023\n",
            "            0\n",
            "0  3 Jan 2023\n",
            "            0\n",
            "0  4 Jan 2023\n",
            "            0\n",
            "0  5 Jan 2023\n",
            "            0\n",
            "0  6 Jan 2023\n",
            "            0\n",
            "0  7 Jan 2023\n",
            "            0\n",
            "0  8 Jan 2023\n",
            "            0\n",
            "0  9 Jan 2023\n",
            "             0\n",
            "0  10 Jan 2023\n",
            "             0\n",
            "0  11 Jan 2023\n",
            "             0\n",
            "0  12 Jan 2023\n",
            "             0\n",
            "0  13 Jan 2023\n",
            "             0\n",
            "0  14 Jan 2023\n",
            "             0\n",
            "0  15 Jan 2023\n",
            "             0\n",
            "0  16 Jan 2023\n",
            "             0\n",
            "0  17 Jan 2023\n",
            "             0\n",
            "0  18 Jan 2023\n",
            "             0\n",
            "0  19 Jan 2023\n",
            "             0\n",
            "0  20 Jan 2023\n",
            "             0\n",
            "0  21 Jan 2023\n",
            "             0\n",
            "0  22 Jan 2023\n",
            "             0\n",
            "0  23 Jan 2023\n",
            "             0\n",
            "0  24 Jan 2023\n",
            "             0\n",
            "0  25 Jan 2023\n",
            "             0\n",
            "0  26 Jan 2023\n",
            "             0\n",
            "0  27 Jan 2023\n",
            "             0\n",
            "0  28 Jan 2023\n",
            "             0\n",
            "0  29 Jan 2023\n",
            "             0\n",
            "0  30 Jan 2023\n",
            "             0\n",
            "0  31 Jan 2023\n",
            "            0\n",
            "0  1 feb 2023\n",
            "            0\n",
            "0  2 feb 2023\n",
            "            0\n",
            "0  3 feb 2023\n",
            "            0\n",
            "0  4 feb 2023\n",
            "            0\n",
            "0  5 feb 2023\n",
            "            0\n",
            "0  6 feb 2023\n",
            "            0\n",
            "0  7 feb 2023\n",
            "            0\n",
            "0  8 feb 2023\n",
            "            0\n",
            "0  9 feb 2023\n",
            "             0\n",
            "0  10 feb 2023\n"
          ]
        }
      ]
    },
    {
      "cell_type": "markdown",
      "source": [
        "## 10. Create 2D list to DataFrame\n",
        "\n",
        "lists = [[1, 'aaa', 22],\n",
        "         [2, 'bbb', 25],\n",
        "         [3, 'ccc', 24]]"
      ],
      "metadata": {
        "id": "ZizSetD-y5az"
      }
    },
    {
      "cell_type": "code",
      "source": [
        "lists = [[1, 'aaa', 22], [2, 'bbb', 25], [3, 'ccc', 24]]"
      ],
      "metadata": {
        "id": "_XMC8aEt0llB"
      },
      "execution_count": 16,
      "outputs": []
    },
    {
      "cell_type": "code",
      "source": [
        "import pandas as pd\n",
        "lists = [[1, 'aaa', 22], [2, 'bbb', 25], [3, 'ccc', 24]]\n",
        "df=pd.DataFrame(lists)\n",
        "print(df)"
      ],
      "metadata": {
        "id": "knH76sDKYsVX",
        "outputId": "a64ec01a-5042-4fdd-87cb-25d7560b61e2",
        "colab": {
          "base_uri": "https://localhost:8080/"
        }
      },
      "execution_count": 17,
      "outputs": [
        {
          "output_type": "stream",
          "name": "stdout",
          "text": [
            "   0    1   2\n",
            "0  1  aaa  22\n",
            "1  2  bbb  25\n",
            "2  3  ccc  24\n"
          ]
        }
      ]
    }
  ]
}