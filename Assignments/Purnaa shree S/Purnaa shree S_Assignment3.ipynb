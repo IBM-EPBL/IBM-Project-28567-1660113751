{
  "nbformat": 4,
  "nbformat_minor": 0,
  "metadata": {
    "colab": {
      "private_outputs": true,
      "provenance": [],
      "collapsed_sections": []
    },
    "kernelspec": {
      "name": "python3",
      "display_name": "Python 3"
    },
    "language_info": {
      "name": "python"
    }
  },
  "cells": [
    {
      "cell_type": "code",
      "execution_count": null,
      "metadata": {
        "id": "7WrfoyebdpO4"
      },
      "outputs": [],
      "source": [
        "import pandas as pd"
      ]
    },
    {
      "cell_type": "code",
      "source": [
        "from google.colab import files\n",
        "uploaded = files.upload()"
      ],
      "metadata": {
        "id": "UDeHc7G7dycp"
      },
      "execution_count": null,
      "outputs": []
    },
    {
      "cell_type": "code",
      "source": [
        "data = pd.read_csv('abalone.csv')"
      ],
      "metadata": {
        "id": "xPtr1mBbd9Cd"
      },
      "execution_count": null,
      "outputs": []
    },
    {
      "cell_type": "code",
      "source": [
        "data.head()"
      ],
      "metadata": {
        "id": "CKcliJndeHCR"
      },
      "execution_count": null,
      "outputs": []
    },
    {
      "cell_type": "code",
      "source": [
        "data.tail()"
      ],
      "metadata": {
        "id": "o99-nbBp7WTq"
      },
      "execution_count": null,
      "outputs": []
    },
    {
      "cell_type": "code",
      "source": [
        "data.shape"
      ],
      "metadata": {
        "id": "6nfC_6o27aqy"
      },
      "execution_count": null,
      "outputs": []
    },
    {
      "cell_type": "code",
      "source": [
        "data.info()"
      ],
      "metadata": {
        "id": "iso6dNHr7d6R"
      },
      "execution_count": null,
      "outputs": []
    },
    {
      "cell_type": "code",
      "source": [
        "import numpy as np\n",
        "import pandas as pd\n",
        "import seaborn as sns\n",
        "import matplotlib.pyplot as plt\n",
        "%matplotlib inline"
      ],
      "metadata": {
        "id": "b60uHJWWeJ85"
      },
      "execution_count": null,
      "outputs": []
    },
    {
      "cell_type": "code",
      "source": [
        "#Univariate\n",
        "data.Sex.value_counts(normalize=True).plot.barh()\n",
        "plt.show()"
      ],
      "metadata": {
        "id": "d5ZC1eZte7Ib"
      },
      "execution_count": null,
      "outputs": []
    },
    {
      "cell_type": "code",
      "source": [
        "sns.distplot(data['Rings'])"
      ],
      "metadata": {
        "id": "CbULsPeagB4V"
      },
      "execution_count": null,
      "outputs": []
    },
    {
      "cell_type": "code",
      "source": [
        "#Bivariate Analysis\n",
        "data.plot.scatter(x=\"Length\",y=\"Height\")\n",
        "plt.show()"
      ],
      "metadata": {
        "id": "LzrnwSFNgNGt"
      },
      "execution_count": null,
      "outputs": []
    },
    {
      "cell_type": "code",
      "source": [
        "import seaborn as sns\n",
        "sns.lineplot(data['Sex'], data['Rings'])"
      ],
      "metadata": {
        "id": "OjNBwwXctexa"
      },
      "execution_count": null,
      "outputs": []
    },
    {
      "cell_type": "code",
      "source": [
        "sns.scatterplot(data['Sex'], data['Rings'])"
      ],
      "metadata": {
        "id": "JkuW3N-77rJ-"
      },
      "execution_count": null,
      "outputs": []
    },
    {
      "cell_type": "code",
      "source": [
        "#Multi - Variate Analysis\n",
        "result = pd.pivot_table(data=data, index='Sex', columns='Rings')\n",
        "print(result)\n",
        "\n",
        "sns.heatmap(result, annot=True, cmap = 'RdYlGn', center=0.117)\n",
        "plt.show()"
      ],
      "metadata": {
        "id": "9Pl419lhgX-i"
      },
      "execution_count": null,
      "outputs": []
    },
    {
      "cell_type": "code",
      "source": [
        "sns.pairplot(data)"
      ],
      "metadata": {
        "id": "ZiXYCxz-tbzc"
      },
      "execution_count": null,
      "outputs": []
    },
    {
      "cell_type": "code",
      "source": [
        "data.corr()"
      ],
      "metadata": {
        "id": "i_0xkdeotrX9"
      },
      "execution_count": null,
      "outputs": []
    },
    {
      "cell_type": "code",
      "source": [
        "#Descriptive statistics\n",
        "data['Length'].mode()"
      ],
      "metadata": {
        "id": "IC5IcOgUgs2_"
      },
      "execution_count": null,
      "outputs": []
    },
    {
      "cell_type": "code",
      "source": [
        "data['Length'].mean()"
      ],
      "metadata": {
        "id": "Hpe6_r4Khmrn"
      },
      "execution_count": null,
      "outputs": []
    },
    {
      "cell_type": "code",
      "source": [
        "data['Length'].median()"
      ],
      "metadata": {
        "id": "sTxXyduUhvuW"
      },
      "execution_count": null,
      "outputs": []
    },
    {
      "cell_type": "code",
      "source": [
        "data.var()"
      ],
      "metadata": {
        "id": "qhtBkt5Ht09G"
      },
      "execution_count": null,
      "outputs": []
    },
    {
      "cell_type": "code",
      "source": [
        "data.std()"
      ],
      "metadata": {
        "id": "i4un5Tp9t4Lk"
      },
      "execution_count": null,
      "outputs": []
    },
    {
      "cell_type": "code",
      "source": [
        "round(data.describe(),2)"
      ],
      "metadata": {
        "id": "AOvMLLVch1Hk"
      },
      "execution_count": null,
      "outputs": []
    },
    {
      "cell_type": "code",
      "source": [
        "data['Sex'].unique()"
      ],
      "metadata": {
        "id": "M5zGYoRQuDXn"
      },
      "execution_count": null,
      "outputs": []
    },
    {
      "cell_type": "code",
      "source": [
        "data['Rings'].unique()"
      ],
      "metadata": {
        "id": "VyX6LjYxuJqB"
      },
      "execution_count": null,
      "outputs": []
    },
    {
      "cell_type": "code",
      "source": [
        "data['Rings'].value_counts()"
      ],
      "metadata": {
        "id": "REcJTVOTuP4m"
      },
      "execution_count": null,
      "outputs": []
    },
    {
      "cell_type": "code",
      "source": [
        "#Handling the missing values\n",
        "data.isnull().sum()"
      ],
      "metadata": {
        "id": "PxrMtzPyh4ce"
      },
      "execution_count": null,
      "outputs": []
    },
    {
      "cell_type": "code",
      "source": [
        "data.isnull().any()"
      ],
      "metadata": {
        "id": "00tRvO-DuikZ"
      },
      "execution_count": null,
      "outputs": []
    },
    {
      "cell_type": "code",
      "source": [
        "#Finding outliers\n",
        "sns.boxplot(data['Rings'])"
      ],
      "metadata": {
        "id": "QBFiF1sjupjq"
      },
      "execution_count": null,
      "outputs": []
    },
    {
      "cell_type": "code",
      "source": [
        "plt.boxplot(data[\"Whole weight\"])\n",
        "plt.show()"
      ],
      "metadata": {
        "id": "0-FXgI_hh_oS"
      },
      "execution_count": null,
      "outputs": []
    },
    {
      "cell_type": "code",
      "source": [
        "#findinig the outliers\n",
        "sns.boxplot(data['Rings'])"
      ],
      "metadata": {
        "id": "hvRp06BFu-BV"
      },
      "execution_count": null,
      "outputs": []
    },
    {
      "cell_type": "code",
      "source": [
        "q = data.quantile([0.25,0.75])\n",
        "q"
      ],
      "metadata": {
        "id": "EVvqpLzdiF5A"
      },
      "execution_count": null,
      "outputs": []
    },
    {
      "cell_type": "code",
      "source": [
        "iqr = q.iloc[0] - q.iloc[1]\n",
        "iqr"
      ],
      "metadata": {
        "id": "rGGAcXQtvJEK"
      },
      "execution_count": null,
      "outputs": []
    },
    {
      "cell_type": "code",
      "source": [
        "u = q.iloc[0] + (1.5*iqr)\n",
        "u"
      ],
      "metadata": {
        "id": "GgE6-eMcveiz"
      },
      "execution_count": null,
      "outputs": []
    },
    {
      "cell_type": "code",
      "source": [
        "#Handling outliers\n",
        "print(data['Rings'].quantile(0.50)) \n",
        "print(data['Rings'].quantile(0.95)) \n",
        "data['Rings'] = np.where(data['Rings'] > 400, 200, data['Rings'])\n",
        "data.describe()"
      ],
      "metadata": {
        "id": "mawWAcC8wFxV"
      },
      "execution_count": null,
      "outputs": []
    },
    {
      "cell_type": "code",
      "source": [
        "sns.boxplot(data['Rings'])"
      ],
      "metadata": {
        "id": "4iDS5Zit8bx6"
      },
      "execution_count": null,
      "outputs": []
    },
    {
      "cell_type": "code",
      "source": [
        "# converting categorical values in to numerical values  - Encoding\n",
        "\n",
        "from sklearn.preprocessing import LabelEncoder, OneHotEncoder\n",
        "\n",
        "le = LabelEncoder()\n",
        "oneh = OneHotEncoder()\n",
        "\n",
        "data['Sex'] = le.fit_transform(data['Sex'])"
      ],
      "metadata": {
        "id": "r6Gf5vIDi3r0"
      },
      "execution_count": null,
      "outputs": []
    },
    {
      "cell_type": "code",
      "source": [
        "#Splitting the Dataset into the Independent Feature\n",
        "\n",
        "x = data.iloc[:, 0:6]\n",
        "print(x)"
      ],
      "metadata": {
        "id": "lhRBU758jBri"
      },
      "execution_count": null,
      "outputs": []
    },
    {
      "cell_type": "code",
      "source": [
        "y = data['Rings']\n",
        "print(y)"
      ],
      "metadata": {
        "id": "J99sdRITxXtA"
      },
      "execution_count": null,
      "outputs": []
    },
    {
      "cell_type": "code",
      "source": [
        "#Scale the independent variables\n",
        "from sklearn.preprocessing import StandardScaler, MinMaxScaler\n",
        "sc = StandardScaler()\n",
        "x_scaled = sc.fit_transform(x)\n",
        "x_scaled"
      ],
      "metadata": {
        "id": "cr2WeOZJ-GLR"
      },
      "execution_count": null,
      "outputs": []
    },
    {
      "cell_type": "code",
      "source": [
        "#Split the data into training and testing\n",
        "from sklearn.model_selection import train_test_split\n",
        "x_train , x_test,y_train,y_test = train_test_split(x_scaled,y,test_size = 0.3, random_state = 0)\n",
        "x_train"
      ],
      "metadata": {
        "id": "KaB_Jlap-YJD"
      },
      "execution_count": null,
      "outputs": []
    },
    {
      "cell_type": "code",
      "source": [
        "x_train.shape"
      ],
      "metadata": {
        "id": "wDDMxtVT-jGv"
      },
      "execution_count": null,
      "outputs": []
    },
    {
      "cell_type": "code",
      "source": [
        "x_test"
      ],
      "metadata": {
        "id": "YclhTUFa-n-Q"
      },
      "execution_count": null,
      "outputs": []
    },
    {
      "cell_type": "code",
      "source": [
        "x_test.shape"
      ],
      "metadata": {
        "id": "WcuUl_xS-q63"
      },
      "execution_count": null,
      "outputs": []
    },
    {
      "cell_type": "code",
      "source": [
        "y_train"
      ],
      "metadata": {
        "id": "eOkUg2GW-tU0"
      },
      "execution_count": null,
      "outputs": []
    },
    {
      "cell_type": "code",
      "source": [
        "y_train.shape"
      ],
      "metadata": {
        "id": "K3J5vvRd-v50"
      },
      "execution_count": null,
      "outputs": []
    },
    {
      "cell_type": "code",
      "source": [
        "y_test"
      ],
      "metadata": {
        "id": "9mwsc4DX-zax"
      },
      "execution_count": null,
      "outputs": []
    },
    {
      "cell_type": "code",
      "source": [
        "y_test.shape"
      ],
      "metadata": {
        "id": "Gv0KARm0-2Q9"
      },
      "execution_count": null,
      "outputs": []
    },
    {
      "cell_type": "code",
      "source": [
        "#Model Building\n",
        "from sklearn.linear_model import LinearRegression\n",
        "lr = LinearRegression()\n",
        "lr.fit(x_train,y_train)"
      ],
      "metadata": {
        "id": "aXC-F20P-57z"
      },
      "execution_count": null,
      "outputs": []
    },
    {
      "cell_type": "code",
      "source": [
        "pred = lr.predict(x_test)\n",
        "pred"
      ],
      "metadata": {
        "id": "4ZsSWdPW-7ij"
      },
      "execution_count": null,
      "outputs": []
    },
    {
      "cell_type": "code",
      "source": [
        "# Measure the performance using Metrics\n",
        "from sklearn.metrics import r2_score\n",
        "r2_score(pred,y_test)"
      ],
      "metadata": {
        "id": "iaMH-TG0_B0H"
      },
      "execution_count": null,
      "outputs": []
    },
    {
      "cell_type": "code",
      "source": [
        "\n"
      ],
      "metadata": {
        "id": "fVcV8KtdZgXR"
      },
      "execution_count": null,
      "outputs": []
    }
  ]
}