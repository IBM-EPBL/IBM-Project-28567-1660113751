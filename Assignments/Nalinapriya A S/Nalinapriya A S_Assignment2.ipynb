{
  "nbformat": 4,
  "nbformat_minor": 0,
  "metadata": {
    "colab": {
      "private_outputs": true,
      "provenance": []
    },
    "kernelspec": {
      "name": "python3",
      "display_name": "Python 3"
    },
    "language_info": {
      "name": "python"
    }
  },
  "cells": [
    {
      "cell_type": "code",
      "source": [
        "import pandas as pd"
      ],
      "metadata": {
        "id": "-Flirx5DZ_AW"
      },
      "execution_count": null,
      "outputs": []
    },
    {
      "cell_type": "code",
      "execution_count": null,
      "metadata": {
        "id": "FS0y7beyYx_7"
      },
      "outputs": [],
      "source": [
        "from google.colab import files\n",
        "uploaded = files.upload()"
      ]
    },
    {
      "cell_type": "code",
      "source": [
        "data = pd.read_csv('Churn_Modelling.csv')"
      ],
      "metadata": {
        "id": "obWkeIPZZxwv"
      },
      "execution_count": null,
      "outputs": []
    },
    {
      "cell_type": "code",
      "source": [
        "data.head()"
      ],
      "metadata": {
        "id": "dsQN6QxKZ1u2"
      },
      "execution_count": null,
      "outputs": []
    },
    {
      "cell_type": "code",
      "source": [
        "import numpy as np\n",
        "import pandas as pd\n",
        "import seaborn as sns\n",
        "import matplotlib.pyplot as plt\n",
        "%matplotlib inline"
      ],
      "metadata": {
        "id": "pb9ZFHHmZ5r3"
      },
      "execution_count": null,
      "outputs": []
    },
    {
      "cell_type": "code",
      "source": [
        "#Univariate\n",
        "data.Gender.value_counts(normalize=True).plot.barh()\n",
        "plt.show()"
      ],
      "metadata": {
        "id": "zSoUlj5paTRN"
      },
      "execution_count": null,
      "outputs": []
    },
    {
      "cell_type": "code",
      "source": [
        "\n",
        "data.Tenure.value_counts(normalize=True).plot.hist()\n",
        "plt.show()"
      ],
      "metadata": {
        "id": "BRGdzA3AatW2"
      },
      "execution_count": null,
      "outputs": []
    },
    {
      "cell_type": "code",
      "source": [
        "#Bivariate Analysis\n",
        "data.plot.scatter(x=\"Geography\",y=\"EstimatedSalary\")\n",
        "plt.show()"
      ],
      "metadata": {
        "id": "J7E-89kDb8JR"
      },
      "execution_count": null,
      "outputs": []
    },
    {
      "cell_type": "code",
      "source": [
        "#Multi - Variate Analysis\n",
        "result = pd.pivot_table(data=data, index='Gender', columns='Age')\n",
        "print(result)\n",
        "\n",
        "sns.heatmap(result, annot=True, cmap = 'RdYlGn', center=0.117)\n",
        "plt.show()"
      ],
      "metadata": {
        "id": "i6K40GMre8MW"
      },
      "execution_count": null,
      "outputs": []
    },
    {
      "cell_type": "code",
      "source": [
        "#Descriptive statistics\n",
        "data['CreditScore'].mode()"
      ],
      "metadata": {
        "id": "Mwq8QSNffG4n"
      },
      "execution_count": null,
      "outputs": []
    },
    {
      "cell_type": "code",
      "source": [
        "\n",
        "data['CreditScore'].mean()"
      ],
      "metadata": {
        "id": "m4M6jQq9faNE"
      },
      "execution_count": null,
      "outputs": []
    },
    {
      "cell_type": "code",
      "source": [
        "data['CreditScore'].median()"
      ],
      "metadata": {
        "id": "9mWteP6KfdTe"
      },
      "execution_count": null,
      "outputs": []
    },
    {
      "cell_type": "code",
      "source": [
        "round(data.describe(),2)"
      ],
      "metadata": {
        "id": "PUxwzAzzfgZJ"
      },
      "execution_count": null,
      "outputs": []
    },
    {
      "cell_type": "code",
      "source": [
        "#Handling the missing values\n",
        "data.isnull().sum()"
      ],
      "metadata": {
        "id": "aRPlco17fmNC"
      },
      "execution_count": null,
      "outputs": []
    },
    {
      "cell_type": "code",
      "source": [
        "#Find the outliers\n",
        "data.describe()"
      ],
      "metadata": {
        "id": "Mrgqp9sGf6Vg"
      },
      "execution_count": null,
      "outputs": []
    },
    {
      "cell_type": "code",
      "source": [
        "plt.boxplot(data[\"EstimatedSalary\"])\n",
        "plt.show()"
      ],
      "metadata": {
        "id": "b3g9-w8sgDIg"
      },
      "execution_count": null,
      "outputs": []
    },
    {
      "cell_type": "code",
      "source": [
        "#Replacing Outliers with Median Values\n",
        "print(data['CreditScore'].quantile(0.50)) \n",
        "print(data['CreditScore'].quantile(0.95)) \n",
        "data['CreditScore'] = np.where(data['CreditScore'] > 400, 200, data['CreditScore'])\n",
        "data.describe()"
      ],
      "metadata": {
        "id": "G-adtNwsiCLB"
      },
      "execution_count": null,
      "outputs": []
    },
    {
      "cell_type": "code",
      "source": [
        "#check the category column\n",
        "import pandas as pd\n",
        "\n",
        "data = pd.read_csv('Churn_Modelling.csv')\n",
        "data.head()"
      ],
      "metadata": {
        "id": "eNHTGzYCiZxk"
      },
      "execution_count": null,
      "outputs": []
    },
    {
      "cell_type": "code",
      "source": [
        "data_categorical = data['Geography']"
      ],
      "metadata": {
        "id": "-EMv5lBgifK4"
      },
      "execution_count": null,
      "outputs": []
    },
    {
      "cell_type": "code",
      "source": [
        "data_categorical.head()"
      ],
      "metadata": {
        "id": "Ova-iZorifV3"
      },
      "execution_count": null,
      "outputs": []
    },
    {
      "cell_type": "code",
      "source": [
        "#Encoding\n",
        "\n",
        "from sklearn.preprocessing import LabelEncoder\n",
        "\n",
        "le = LabelEncoder()\n",
        "\n",
        "data.Gender = le.fit_transform(data.Gender)\n",
        "\n",
        "data.head"
      ],
      "metadata": {
        "id": "ZVhZcxSsisJZ"
      },
      "execution_count": null,
      "outputs": []
    },
    {
      "cell_type": "code",
      "source": [
        "#Splitting the Dataset into the Independent Feature\n",
        "\n",
        "X = data.iloc[:, :-1].values\n",
        "print(X)"
      ],
      "metadata": {
        "id": "DhOmC4gtiyCH"
      },
      "execution_count": null,
      "outputs": []
    },
    {
      "cell_type": "code",
      "source": [
        "#Extracting the Dataset to Get the Dependent Vector\n",
        "Y = data.iloc[:, -1].values\n",
        "print(Y)"
      ],
      "metadata": {
        "id": "1J_Fd6Nai1mJ"
      },
      "execution_count": null,
      "outputs": []
    },
    {
      "cell_type": "code",
      "source": [
        "import pandas as pd\n",
        "from sklearn.linear_model import LinearRegression\n",
        "from sklearn.model_selection import train_test_split\n",
        " \n",
        "# read the dataset\n",
        "data = pd.read_csv('Churn_Modelling.csv')\n",
        " \n",
        "# get the locations\n",
        "X = data.iloc[:, :-1]\n",
        "y = data.iloc[:, -1]\n",
        " \n",
        "# split the dataset\n",
        "X_train, X_test, y_train, y_test = train_test_split(\n",
        "    X, y, test_size=0.05, random_state=0)\n",
        "X_train"
      ],
      "metadata": {
        "id": "eelbAEqVi4b6"
      },
      "execution_count": null,
      "outputs": []
    },
    {
      "cell_type": "code",
      "source": [
        "y_train"
      ],
      "metadata": {
        "id": "iTLK8JyZi_l4"
      },
      "execution_count": null,
      "outputs": []
    },
    {
      "cell_type": "code",
      "source": [
        "training_data = data.sample(frac=0.8, random_state=25)\n",
        "testing_data = data.drop(training_data.index)\n",
        "\n",
        "print(f\"No. of training examples: {training_data.shape[0]}\")\n",
        "print(f\"No. of testing examples: {testing_data.shape[0]}\")"
      ],
      "metadata": {
        "id": "rFU9xqQajEvN"
      },
      "execution_count": null,
      "outputs": []
    },
    {
      "cell_type": "code",
      "source": [],
      "metadata": {
        "id": "kTrMjUDtcxIC"
      },
      "execution_count": null,
      "outputs": []
    }
  ]
}